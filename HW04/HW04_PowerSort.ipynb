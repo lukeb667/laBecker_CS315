{
  "nbformat": 4,
  "nbformat_minor": 0,
  "metadata": {
    "colab": {
      "provenance": [],
      "include_colab_link": true
    },
    "kernelspec": {
      "name": "python3",
      "display_name": "Python 3"
    },
    "language_info": {
      "name": "python"
    }
  },
  "cells": [
    {
      "cell_type": "markdown",
      "metadata": {
        "id": "view-in-github",
        "colab_type": "text"
      },
      "source": [
        "<a href=\"https://colab.research.google.com/github/lukeb667/laBecker_CS315/blob/main/HW04_PowerSort.ipynb\" target=\"_parent\"><img src=\"https://colab.research.google.com/assets/colab-badge.svg\" alt=\"Open In Colab\"/></a>"
      ]
    },
    {
      "cell_type": "code",
      "execution_count": null,
      "metadata": {
        "id": "tZGwopH4Y7oL"
      },
      "outputs": [],
      "source": [
        "# Luke Becker\n",
        "# October 4, 2025\n",
        "# HW04, Algorithms & Analysis\n",
        "\n",
        "# This file demonstrates the timing of PowerSort (Python's Default).\n"
      ]
    },
    {
      "cell_type": "code",
      "source": [
        "import random\n",
        "import math\n",
        "import time"
      ],
      "metadata": {
        "id": "fSME9MywceAq"
      },
      "execution_count": 3,
      "outputs": []
    },
    {
      "cell_type": "code",
      "source": [
        "# Unsorted Data\n",
        "for size in [1000, 10000, 100000, 1000000]:\n",
        "    N = size # Run the sorting algorithm on multiple array sizes\n",
        "\n",
        "    # Expected time for power sort\n",
        "    EXPECTED_TIME = N * math.log2(N)\n",
        "\n",
        "    # Create a list of integers with size N and shuffle it.\n",
        "    LIST = list(range(N))\n",
        "    random.shuffle(LIST)\n",
        "\n",
        "    # Time the algorithm\n",
        "    start = time.time()\n",
        "    LIST.sort()\n",
        "    end = time.time()\n",
        "\n",
        "    # Determine the time to size ratio\n",
        "    ratio=(end-start)/(EXPECTED_TIME)\n",
        "\n",
        "    # Display results. Not in timing chunk, so will not skew results.\n",
        "    print(\"N:\", N, \"|\", \"Time:\", end-start, \"|\", \"Ratio:\", ratio)\n"
      ],
      "metadata": {
        "colab": {
          "base_uri": "https://localhost:8080/"
        },
        "id": "f1GS3NjwZqmS",
        "outputId": "4cb7a70c-2d1b-4f5f-dbc0-ed1178e945cd"
      },
      "execution_count": 4,
      "outputs": [
        {
          "output_type": "stream",
          "name": "stdout",
          "text": [
            "N: 1000 | Time: 0.00012540817260742188 | Ratio: 1.2583873885413336e-08\n",
            "N: 10000 | Time: 0.001821279525756836 | Ratio: 1.3706494193536951e-08\n",
            "N: 100000 | Time: 0.028960704803466797 | Ratio: 1.74360816828269e-08\n",
            "N: 1000000 | Time: 0.5168948173522949 | Ratio: 2.5933474104382617e-08\n"
          ]
        }
      ]
    },
    {
      "cell_type": "code",
      "source": [
        "# Sorted Data\n",
        "for size in [100000, 1000000, 10000000, 10000000]:\n",
        "    N = size # Run the sorting algorithm on multiple array sizes\n",
        "\n",
        "    # Expected time for power sort\n",
        "    EXPECTED_TIME = N * math.log2(N)\n",
        "\n",
        "    # Create a list of integers with size N and shuffle it.\n",
        "    LIST = list(range(N))\n",
        "\n",
        "    # Time the algorithm\n",
        "    start = time.time()\n",
        "    LIST.sort()\n",
        "    end = time.time()\n",
        "\n",
        "    # Determine the time to size ratio\n",
        "    ratio=(end-start)/(EXPECTED_TIME)\n",
        "\n",
        "    # Display results. Not in timing chunk, so will not skew results.\n",
        "    print(\"N:\", N, \"|\", \"Time:\", end-start, \"|\", \"Ratio:\", ratio)\n"
      ],
      "metadata": {
        "id": "bSt-MwAlAV1S",
        "outputId": "06760e94-32cc-47d4-e006-3f9cb7f8a9d7",
        "colab": {
          "base_uri": "https://localhost:8080/"
        }
      },
      "execution_count": 5,
      "outputs": [
        {
          "output_type": "stream",
          "name": "stdout",
          "text": [
            "N: 100000 | Time: 0.0014295578002929688 | Ratio: 8.606795568472057e-10\n",
            "N: 1000000 | Time: 0.008333683013916016 | Ratio: 4.1811476025735535e-10\n",
            "N: 10000000 | Time: 0.0842885971069336 | Ratio: 3.624770860231897e-10\n",
            "N: 10000000 | Time: 0.08246946334838867 | Ratio: 3.546540313453757e-10\n"
          ]
        }
      ]
    },
    {
      "cell_type": "code",
      "source": [
        "# I fear I may have defeated the purpose of this exercise a little bit, because I looked up what the sorting algorithm for Python's sort function was weeks ago.\n",
        "# However, playing around with different sorting functions, n lg n seems to match best for both sorted and unsorted data.\n",
        "# Having said that, powersort is wicked fast. It seems to easily beat out Theta(n) functions even at a hundred thousand elements, which is some sort of insanity."
      ],
      "metadata": {
        "id": "AKVGhvfACrJX"
      },
      "execution_count": null,
      "outputs": []
    }
  ]
}
