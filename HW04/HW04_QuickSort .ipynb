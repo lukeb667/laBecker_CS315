{
  "nbformat": 4,
  "nbformat_minor": 0,
  "metadata": {
    "colab": {
      "provenance": [],
      "include_colab_link": true
    },
    "kernelspec": {
      "name": "python3",
      "display_name": "Python 3"
    },
    "language_info": {
      "name": "python"
    }
  },
  "cells": [
    {
      "cell_type": "markdown",
      "metadata": {
        "id": "view-in-github",
        "colab_type": "text"
      },
      "source": [
        "<a href=\"https://colab.research.google.com/github/lukeb667/laBecker_CS315/blob/main/HW04_QuickSort%20.ipynb\" target=\"_parent\"><img src=\"https://colab.research.google.com/assets/colab-badge.svg\" alt=\"Open In Colab\"/></a>"
      ]
    },
    {
      "cell_type": "code",
      "execution_count": null,
      "metadata": {
        "id": "t_LwP80OmwFK"
      },
      "outputs": [],
      "source": [
        "# Luke Becker\n",
        "# October 4, 2025\n",
        "# HW04, Algorithms & Analysis\n",
        "\n",
        "# This file demonstrates the timing of Quicksort."
      ]
    },
    {
      "cell_type": "code",
      "source": [
        "import random\n",
        "import time\n",
        "import sys\n",
        "import math"
      ],
      "metadata": {
        "id": "LMcLd_etm-0Y"
      },
      "execution_count": 1,
      "outputs": []
    },
    {
      "cell_type": "code",
      "source": [
        "def Partition(A,p,r):\n",
        "    x = A[r] # set the partiton limit\n",
        "    i = p - 1\n",
        "    for j in range(p,r):\n",
        "        if ( A[j] <= x ):\n",
        "            i = i + 1\n",
        "            A[i], A[j] = A[j], A[i] #Swap scanned element with the element after the last orderd\n",
        "\n",
        "    A[i+1], A[r] = A[r], A[i+1] # Swap limit with element after last ordered\n",
        "\n",
        "    return i + 1"
      ],
      "metadata": {
        "id": "TyWIYm1_nIYR"
      },
      "execution_count": 9,
      "outputs": []
    },
    {
      "cell_type": "code",
      "source": [
        "def Quicksort(A,p,r):\n",
        "  while p < r:\n",
        "    q = Partition(A , p , r) # get a partition\n",
        "    Quicksort(A , p , q-1) # recursive call\n",
        "    p=q+1 # tail recurstion"
      ],
      "metadata": {
        "id": "neX-YNcPnLpk"
      },
      "execution_count": 3,
      "outputs": []
    },
    {
      "cell_type": "code",
      "source": [
        "sys.setrecursionlimit(50000)"
      ],
      "metadata": {
        "id": "RVXFjLS0nCeo"
      },
      "execution_count": 4,
      "outputs": []
    },
    {
      "cell_type": "code",
      "source": [
        "\n",
        "\n",
        "# Unsorted Data\n",
        "for size in [1000, 10000, 100000, 1000000]:\n",
        "    N = size # Run the sorting algorithm on multiple array sizes\n",
        "\n",
        "    # Expected time for power sort\n",
        "    EXPECTED_TIME = N * math.log2(N)\n",
        "\n",
        "    # Create a list of integers with size N and shuffle it.\n",
        "    LIST = list(range(N))\n",
        "    random.shuffle(LIST)\n",
        "\n",
        "    # Time the algorithm\n",
        "    start = time.time()\n",
        "    Quicksort(LIST, 0, N-1)\n",
        "    end = time.time()\n",
        "\n",
        "    # Determine the time to size ratio\n",
        "    ratio=(end-start)/(EXPECTED_TIME)\n",
        "\n",
        "    # Display results. Not in timing chunk, so will not skew results.\n",
        "    print(\"N:\", N, \"|\", \"Time:\", end-start, \"|\", \"Ratio:\", ratio)\n",
        "\n",
        "\n"
      ],
      "metadata": {
        "colab": {
          "base_uri": "https://localhost:8080/"
        },
        "id": "1_XpPrJLHMYW",
        "outputId": "f0dfaa22-726d-4259-e2be-ac3b76e5f49f"
      },
      "execution_count": 11,
      "outputs": [
        {
          "output_type": "stream",
          "name": "stdout",
          "text": [
            "N: 1000 | Time: 0.0034182071685791016 | Ratio: 3.429942963786521e-07\n",
            "N: 10000 | Time: 0.028518199920654297 | Ratio: 2.146208399614778e-07\n",
            "N: 100000 | Time: 0.2569561004638672 | Ratio: 1.5470298761694292e-07\n",
            "N: 1000000 | Time: 3.2142856121063232 | Ratio: 1.6126606397919394e-07\n"
          ]
        }
      ]
    },
    {
      "cell_type": "code",
      "source": [
        "\n",
        "\n",
        "# Sorted Data\n",
        "for size in [100, 1000, 10000]:\n",
        "    N = size # Run the sorting algorithm on multiple array sizes\n",
        "\n",
        "    # Expected time for power sort\n",
        "    EXPECTED_TIME = math.pow(N, 2)\n",
        "\n",
        "    # Create a list of integers with size N and shuffle it.\n",
        "    LIST = list(range(N))\n",
        "\n",
        "    # Time the algorithm\n",
        "    start = time.time()\n",
        "    Quicksort(LIST, 0, N-1)\n",
        "    end = time.time()\n",
        "\n",
        "    # Determine the time to size ratio\n",
        "    ratio=(end-start)/(EXPECTED_TIME)\n",
        "\n",
        "    # Display results. Not in timing chunk, so will not skew results.\n",
        "    print(\"N:\", N, \"|\", \"Time:\", end-start, \"|\", \"Ratio:\", ratio)\n",
        "\n",
        "\n"
      ],
      "metadata": {
        "colab": {
          "base_uri": "https://localhost:8080/"
        },
        "id": "flgPwKoGHS-B",
        "outputId": "4e56bf3b-0219-493c-c70a-66c6ff736e61"
      },
      "execution_count": 13,
      "outputs": [
        {
          "output_type": "stream",
          "name": "stdout",
          "text": [
            "N: 100 | Time: 0.0006546974182128906 | Ratio: 6.546974182128907e-08\n",
            "N: 1000 | Time: 0.06371307373046875 | Ratio: 6.371307373046876e-08\n",
            "N: 10000 | Time: 6.282604932785034 | Ratio: 6.282604932785034e-08\n"
          ]
        }
      ]
    },
    {
      "cell_type": "code",
      "source": [],
      "metadata": {
        "id": "GuL9bZEpnYou"
      },
      "execution_count": null,
      "outputs": []
    }
  ]
}
