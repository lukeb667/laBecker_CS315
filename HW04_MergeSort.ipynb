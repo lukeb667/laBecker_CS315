{
  "nbformat": 4,
  "nbformat_minor": 0,
  "metadata": {
    "colab": {
      "provenance": [],
      "include_colab_link": true
    },
    "kernelspec": {
      "name": "python3",
      "display_name": "Python 3"
    },
    "language_info": {
      "name": "python"
    }
  },
  "cells": [
    {
      "cell_type": "markdown",
      "metadata": {
        "id": "view-in-github",
        "colab_type": "text"
      },
      "source": [
        "<a href=\"https://colab.research.google.com/github/lukeb667/laBecker_CS315/blob/main/HW04_MergeSort.ipynb\" target=\"_parent\"><img src=\"https://colab.research.google.com/assets/colab-badge.svg\" alt=\"Open In Colab\"/></a>"
      ]
    },
    {
      "cell_type": "code",
      "execution_count": 1,
      "metadata": {
        "id": "t_LwP80OmwFK"
      },
      "outputs": [],
      "source": [
        "# Luke Becker\n",
        "# October 4, 2025\n",
        "# HW04, Algorithms & Analysis\n",
        "\n",
        "# This file demonstrates the timing of merge sort."
      ]
    },
    {
      "cell_type": "code",
      "source": [
        "import random\n",
        "import math\n",
        "import time"
      ],
      "metadata": {
        "id": "LMcLd_etm-0Y"
      },
      "execution_count": 2,
      "outputs": []
    },
    {
      "cell_type": "code",
      "source": [
        "import math  # Required for math.floor\n",
        "\n",
        "def mergesort(SORT_THIS):\n",
        "    def merge(L1, L2):\n",
        "        \"\"\"\n",
        "        Merge two sorted lists into a single sorted list.\n",
        "\n",
        "        Parameters\n",
        "        ----------\n",
        "        L1, L2 : list\n",
        "            Sorted lists (ascending order).\n",
        "\n",
        "        Returns\n",
        "        -------\n",
        "        list\n",
        "            Sorted list containing all elements of L1 and L2.\n",
        "        \"\"\"\n",
        "        C = []  # Output list\n",
        "\n",
        "        # Walk down both lists, always taking the smaller head element\n",
        "        while len(L1) > 0 and len(L2) > 0:\n",
        "            if L1[0] <= L2[0]:\n",
        "                C.append(L1[0])\n",
        "                L1.pop(0)  # Remove the consumed element\n",
        "            else:\n",
        "                C.append(L2[0])\n",
        "                L2.pop(0)\n",
        "\n",
        "        # Exactly one of the lists may still have leftovers; append them\n",
        "        while len(L1) > 0:\n",
        "            C.append(L1[0])\n",
        "            L1.pop(0)\n",
        "\n",
        "        while len(L2) > 0:\n",
        "            C.append(L2[0])\n",
        "            L2.pop(0)\n",
        "\n",
        "        return C\n",
        "    # ---------- end helper ----------\n",
        "\n",
        "    # ---------- recursive divide & conquer ----------\n",
        "    # Base-case: lists of length 0 or 1 are already sorted\n",
        "    # (The original code uses ≤ 2, but 2-element lists still need ordering!)\n",
        "    if len(SORT_THIS) <= 1:\n",
        "        return SORT_THIS[:]  # Return a shallow copy\n",
        "\n",
        "    mid = math.floor(len(SORT_THIS) / 2)  # Split index\n",
        "\n",
        "    # Recursively sort each half\n",
        "    left_sorted = mergesort(SORT_THIS[:mid])  # Left half\n",
        "    right_sorted = mergesort(SORT_THIS[mid:])  # Right half\n",
        "\n",
        "    # Merge the two sorted halves\n",
        "    return merge(left_sorted, right_sorted)\n",
        "\n",
        "def mergesort(SORT_THIS):\n",
        "    '''Merge sort splits up a list into sorted (size 1) sublists and then uses the merge function to recombine them sorted'''\n",
        "    def merge(L1, L2):\n",
        "        '''Helper function that does the majority of the work. Merges two sorted lists into a single list.'''\n",
        "        C = [] # Output list\n",
        "\n",
        "        # Iterate over each list and append the smaller element at each index\n",
        "        while len(L1) > 0 and len(L2) > 0:\n",
        "            if L1[0] <= L2[0]:\n",
        "                C.append(L1[0])\n",
        "                L1.pop(0)\n",
        "            else:\n",
        "                C.append(L2[0])\n",
        "                L2.pop(0)\n",
        "\n",
        "        # One of the lists will have leftovers. Add the leftovers to the end of the output list.\n",
        "        while len(L1) > 0:\n",
        "            C.append(L1[0])\n",
        "            L1.pop(0)\n",
        "\n",
        "        while len(L2) > 0:\n",
        "            C.append(L2[0])\n",
        "            L2.pop(0)\n",
        "        return C\n",
        "\n",
        "    if len(SORT_THIS) <= 1:\n",
        "        return SORT_THIS[:] # Return a copy of the list if it's of size one\n",
        "\n",
        "    # Otherwise\n",
        "    mid = math.floor(len(SORT_THIS) / 2)  # Get the midpoint to split\n",
        "\n",
        "    # Recursively sort each half\n",
        "    left_sorted = mergesort(SORT_THIS[:mid])\n",
        "    right_sorted = mergesort(SORT_THIS[mid:])\n",
        "\n",
        "    # Merge the two sorted halves\n",
        "    return merge(left_sorted, right_sorted)"
      ],
      "metadata": {
        "id": "TyWIYm1_nIYR"
      },
      "execution_count": 3,
      "outputs": []
    },
    {
      "cell_type": "code",
      "source": [],
      "metadata": {
        "id": "neX-YNcPnLpk"
      },
      "execution_count": null,
      "outputs": []
    },
    {
      "cell_type": "code",
      "source": [
        "\n",
        "\n",
        "for size in [100, 1000, 10000, 100000]:\n",
        "    N = size # Run the sorting algorithm on multiple array sizes\n",
        "\n",
        "    # Expected time for merge sort\n",
        "    EXPECTED_TIME = N * math.log2(N)\n",
        "\n",
        "    # Create a list of integers with size N and shuffle it.\n",
        "    LIST = list(range(N))\n",
        "    random.shuffle(LIST)\n",
        "\n",
        "    # Time the algorithm\n",
        "    start = time.time()\n",
        "    mergesort(LIST)\n",
        "    end = time.time()\n",
        "\n",
        "    # Determine the time to size ratio\n",
        "    ratio=(end-start)/(EXPECTED_TIME)\n",
        "\n",
        "    # Display results. Not in timing chunk, so will not skew results.\n",
        "    print(\"N:\", N, \"|\", \"Time:\", end-start, \"|\", \"Ratio:\", ratio)\n",
        "\n",
        "\n"
      ],
      "metadata": {
        "colab": {
          "base_uri": "https://localhost:8080/"
        },
        "id": "RVXFjLS0nCeo",
        "outputId": "9ef627d6-7aba-4186-f559-478e42dd02bd"
      },
      "execution_count": 8,
      "outputs": [
        {
          "output_type": "stream",
          "name": "stdout",
          "text": [
            "N: 100 | Time: 0.0002570152282714844 | Ratio: 3.8684646526071043e-07\n",
            "N: 1000 | Time: 0.002674579620361328 | Ratio: 2.68376230506781e-07\n",
            "N: 10000 | Time: 0.04059863090515137 | Ratio: 3.0553514213353223e-07\n",
            "N: 100000 | Time: 1.5743098258972168 | Ratio: 9.478289601272043e-07\n"
          ]
        }
      ]
    }
  ]
}