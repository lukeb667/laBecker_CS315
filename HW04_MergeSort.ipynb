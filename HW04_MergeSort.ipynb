{
  "nbformat": 4,
  "nbformat_minor": 0,
  "metadata": {
    "colab": {
      "provenance": [],
      "include_colab_link": true
    },
    "kernelspec": {
      "name": "python3",
      "display_name": "Python 3"
    },
    "language_info": {
      "name": "python"
    }
  },
  "cells": [
    {
      "cell_type": "markdown",
      "metadata": {
        "id": "view-in-github",
        "colab_type": "text"
      },
      "source": [
        "<a href=\"https://colab.research.google.com/github/lukeb667/laBecker_CS315/blob/main/HW04_MergeSort.ipynb\" target=\"_parent\"><img src=\"https://colab.research.google.com/assets/colab-badge.svg\" alt=\"Open In Colab\"/></a>"
      ]
    },
    {
      "cell_type": "code",
      "execution_count": 1,
      "metadata": {
        "id": "t_LwP80OmwFK"
      },
      "outputs": [],
      "source": [
        "# Luke Becker\n",
        "# October 4, 2025\n",
        "# HW04, Algorithms & Analysis\n",
        "\n",
        "# This file demonstrates the timing of merge sort."
      ]
    },
    {
      "cell_type": "code",
      "source": [
        "import random\n",
        "import math\n",
        "import time"
      ],
      "metadata": {
        "id": "LMcLd_etm-0Y"
      },
      "execution_count": 2,
      "outputs": []
    },
    {
      "cell_type": "code",
      "source": [
        "def mergesort(SORT_THIS):\n",
        "    '''Merge sort splits up a list into sorted (size 1) sublists and then uses the merge function to recombine them sorted'''\n",
        "    def merge(L1, L2):\n",
        "        '''Helper function that does the majority of the work. Merges two sorted lists into a single list.'''\n",
        "        C = [] # Output list\n",
        "\n",
        "        # Iterate over each list and append the smaller element at each index\n",
        "        while len(L1) > 0 and len(L2) > 0:\n",
        "            if L1[0] <= L2[0]:\n",
        "                C.append(L1[0])\n",
        "                L1.pop(0)\n",
        "            else:\n",
        "                C.append(L2[0])\n",
        "                L2.pop(0)\n",
        "\n",
        "        # One of the lists will have leftovers. Add the leftovers to the end of the output list.\n",
        "        while len(L1) > 0:\n",
        "            C.append(L1[0])\n",
        "            L1.pop(0)\n",
        "\n",
        "        while len(L2) > 0:\n",
        "            C.append(L2[0])\n",
        "            L2.pop(0)\n",
        "        return C\n",
        "\n",
        "    if len(SORT_THIS) <= 1:\n",
        "        return SORT_THIS[:] # Return a copy of the list if it's of size one\n",
        "\n",
        "    # Otherwise\n",
        "    mid = math.floor(len(SORT_THIS) / 2)  # Get the midpoint to split\n",
        "\n",
        "    # Recursively sort each half\n",
        "    left_sorted = mergesort(SORT_THIS[:mid])\n",
        "    right_sorted = mergesort(SORT_THIS[mid:])\n",
        "\n",
        "    # Merge the two sorted halves\n",
        "    return merge(left_sorted, right_sorted)"
      ],
      "metadata": {
        "id": "TyWIYm1_nIYR"
      },
      "execution_count": 10,
      "outputs": []
    },
    {
      "cell_type": "code",
      "source": [
        "# Sorted Data\n",
        "for size in [100, 1000, 10000, 100000]:\n",
        "    N = size # Run the sorting algorithm on multiple array sizes\n",
        "\n",
        "    # Expected time for merge sort\n",
        "    EXPECTED_TIME = N * math.log2(N)\n",
        "\n",
        "    # Create a list of integers with size N and shuffle it.\n",
        "    LIST = list(range(N))\n",
        "    random.shuffle(LIST)\n",
        "\n",
        "    # Time the algorithm\n",
        "    start = time.time()\n",
        "    mergesort(LIST)\n",
        "    end = time.time()\n",
        "\n",
        "    # Determine the time to size ratio\n",
        "    ratio=(end-start)/(EXPECTED_TIME)\n",
        "\n",
        "    # Display results. Not in timing chunk, so will not skew results.\n",
        "    print(\"N:\", N, \"|\", \"Time:\", end-start, \"|\", \"Ratio:\", ratio)"
      ],
      "metadata": {
        "id": "neX-YNcPnLpk",
        "colab": {
          "base_uri": "https://localhost:8080/"
        },
        "outputId": "ea9ecc57-c8bd-4146-dd67-504fb765c26f"
      },
      "execution_count": 12,
      "outputs": [
        {
          "output_type": "stream",
          "name": "stdout",
          "text": [
            "N: 100 | Time: 0.0002484321594238281 | Ratio: 3.7392765937074234e-07\n",
            "N: 1000 | Time: 0.002643108367919922 | Ratio: 2.6521830017812215e-07\n",
            "N: 10000 | Time: 0.039159536361694336 | Ratio: 2.94704876529109e-07\n",
            "N: 100000 | Time: 1.246389627456665 | Ratio: 7.504013282978221e-07\n"
          ]
        }
      ]
    },
    {
      "cell_type": "code",
      "source": [
        "\n",
        "# Unsorted Data\n",
        "for size in [100, 1000, 10000, 100000]:\n",
        "    N = size # Run the sorting algorithm on multiple array sizes\n",
        "\n",
        "    # Expected time for merge sort\n",
        "    EXPECTED_TIME = N * math.log2(N)\n",
        "\n",
        "    # Create a list of integers with size N and shuffle it.\n",
        "    LIST = list(range(N))\n",
        "    random.shuffle(LIST)\n",
        "\n",
        "    # Time the algorithm\n",
        "    start = time.time()\n",
        "    mergesort(LIST)\n",
        "    end = time.time()\n",
        "\n",
        "    # Determine the time to size ratio\n",
        "    ratio=(end-start)/(EXPECTED_TIME)\n",
        "\n",
        "    # Display results. Not in timing chunk, so will not skew results.\n",
        "    print(\"N:\", N, \"|\", \"Time:\", end-start, \"|\", \"Ratio:\", ratio)\n",
        "\n",
        "\n"
      ],
      "metadata": {
        "colab": {
          "base_uri": "https://localhost:8080/"
        },
        "id": "RVXFjLS0nCeo",
        "outputId": "b23f833d-18b5-4cee-8f16-d3cffc9384fb"
      },
      "execution_count": 13,
      "outputs": [
        {
          "output_type": "stream",
          "name": "stdout",
          "text": [
            "N: 100 | Time: 0.00021529197692871094 | Ratio: 3.24046714406699e-07\n",
            "N: 1000 | Time: 0.002594470977783203 | Ratio: 2.6033786239746755e-07\n",
            "N: 10000 | Time: 0.04044365882873535 | Ratio: 3.0436886104624346e-07\n",
            "N: 100000 | Time: 1.3339073657989502 | Ratio: 8.030922570852211e-07\n"
          ]
        }
      ]
    }
  ]
}