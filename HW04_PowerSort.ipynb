{
  "nbformat": 4,
  "nbformat_minor": 0,
  "metadata": {
    "colab": {
      "provenance": [],
      "include_colab_link": true
    },
    "kernelspec": {
      "name": "python3",
      "display_name": "Python 3"
    },
    "language_info": {
      "name": "python"
    }
  },
  "cells": [
    {
      "cell_type": "markdown",
      "metadata": {
        "id": "view-in-github",
        "colab_type": "text"
      },
      "source": [
        "<a href=\"https://colab.research.google.com/github/lukeb667/laBecker_CS315/blob/main/HW04_InsertionSort.ipynb\" target=\"_parent\"><img src=\"https://colab.research.google.com/assets/colab-badge.svg\" alt=\"Open In Colab\"/></a>"
      ]
    },
    {
      "cell_type": "code",
      "execution_count": null,
      "metadata": {
        "id": "tZGwopH4Y7oL"
      },
      "outputs": [],
      "source": [
        "# Luke Becker\n",
        "# October 4, 2025\n",
        "# HW04, Algorithms & Analysis\n",
        "\n",
        "# This file demonstrates the timing of insertion sort.\n"
      ]
    },
    {
      "cell_type": "code",
      "source": [
        "import random\n",
        "import math\n",
        "import time"
      ],
      "metadata": {
        "id": "fSME9MywceAq"
      },
      "execution_count": 39,
      "outputs": []
    },
    {
      "cell_type": "code",
      "source": [
        "def insertion(A):\n",
        "    n = len(A)\n",
        "    for i in range(1, n):\n",
        "        key = A[i]\n",
        "        j = i - 1\n",
        "        while j >= 0 and A[j] > key:\n",
        "            A[j + 1] = A[j]\n",
        "            j -= 1\n",
        "        A[j + 1] = key"
      ],
      "metadata": {
        "id": "TJZL4jFQZhAp"
      },
      "execution_count": 40,
      "outputs": []
    },
    {
      "cell_type": "code",
      "source": [
        "# Unsorted Data\n",
        "for size in [100, 1000, 10000]:\n",
        "    N = size # Run the sorting algorithm on multiple array sizes\n",
        "\n",
        "    # Expected time for insertion sort\n",
        "    EXPECTED_TIME = math.pow(N, 2)\n",
        "\n",
        "    # Create a list of integers with size N and shuffle it.\n",
        "    LIST = list(range(N))\n",
        "    random.shuffle(LIST)\n",
        "\n",
        "    # Time the algorithm\n",
        "    start = time.time()\n",
        "    insertion(LIST)\n",
        "    end = time.time()\n",
        "\n",
        "    # Determine the time to size ratio\n",
        "    ratio=(end-start)/(EXPECTED_TIME)\n",
        "\n",
        "    # Display results. Not in timing chunk, so will not skew results.\n",
        "    print(\"N:\", N, \"|\", \"Time:\", end-start, \"|\", \"Ratio:\", ratio)\n"
      ],
      "metadata": {
        "colab": {
          "base_uri": "https://localhost:8080/"
        },
        "id": "f1GS3NjwZqmS",
        "outputId": "a09c11da-36f5-4ac7-878d-6d76f933e556"
      },
      "execution_count": 48,
      "outputs": [
        {
          "output_type": "stream",
          "name": "stdout",
          "text": [
            "N: 100 | Time: 0.00018215179443359375 | Ratio: 1.8215179443359374e-08\n",
            "N: 1000 | Time: 0.024741411209106445 | Ratio: 2.4741411209106446e-08\n",
            "N: 10000 | Time: 3.565866708755493 | Ratio: 3.565866708755493e-08\n"
          ]
        }
      ]
    },
    {
      "cell_type": "code",
      "source": [
        "# Sorted Data\n",
        "for size in [10000, 100000, 1000000, 10000000]:\n",
        "    N = size # Run the sorting algorithm on multiple array sizes\n",
        "\n",
        "    # Expected time for insertion sort\n",
        "    EXPECTED_TIME = N\n",
        "\n",
        "    # Create a list of integers with size N and shuffle it.\n",
        "    LIST = list(range(N))\n",
        "\n",
        "    # Time the algorithm\n",
        "    start = time.time()\n",
        "    insertion(LIST)\n",
        "    end = time.time()\n",
        "\n",
        "    # Determine the time to size ratio\n",
        "    ratio=(end-start)/(EXPECTED_TIME)\n",
        "\n",
        "    # Display results. Not in timing chunk, so will not skew results.\n",
        "    print(\"N:\", N, \"|\", \"Time:\", end-start, \"|\", \"Ratio:\", ratio)\n"
      ],
      "metadata": {
        "id": "bSt-MwAlAV1S",
        "outputId": "c8a940de-ce1c-482e-f0cb-c21be3a09d8d",
        "colab": {
          "base_uri": "https://localhost:8080/"
        }
      },
      "execution_count": 46,
      "outputs": [
        {
          "output_type": "stream",
          "name": "stdout",
          "text": [
            "N: 10000 | Time: 0.0014104843139648438 | Ratio: 1.4104843139648438e-07\n",
            "N: 100000 | Time: 0.01175546646118164 | Ratio: 1.175546646118164e-07\n",
            "N: 1000000 | Time: 0.12076425552368164 | Ratio: 1.2076425552368165e-07\n",
            "N: 10000000 | Time: 1.420288324356079 | Ratio: 1.420288324356079e-07\n"
          ]
        }
      ]
    }
  ]
}
