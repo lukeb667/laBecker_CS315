{
  "nbformat": 4,
  "nbformat_minor": 0,
  "metadata": {
    "colab": {
      "provenance": [],
      "include_colab_link": true
    },
    "kernelspec": {
      "name": "python3",
      "display_name": "Python 3"
    },
    "language_info": {
      "name": "python"
    }
  },
  "cells": [
    {
      "cell_type": "markdown",
      "metadata": {
        "id": "view-in-github",
        "colab_type": "text"
      },
      "source": [
        "<a href=\"https://colab.research.google.com/github/lukeb667/laBecker_CS315/blob/main/HW04_Selection.ipynb\" target=\"_parent\"><img src=\"https://colab.research.google.com/assets/colab-badge.svg\" alt=\"Open In Colab\"/></a>"
      ]
    },
    {
      "cell_type": "code",
      "execution_count": null,
      "metadata": {
        "id": "tZGwopH4Y7oL"
      },
      "outputs": [],
      "source": [
        "# Luke Becker\n",
        "# October 4, 2025\n",
        "# HW04, Algorithms & Analysis\n",
        "\n",
        "# This file demonstrates the timing of selection sort."
      ]
    },
    {
      "cell_type": "code",
      "source": [
        "import random\n",
        "import math\n",
        "import time"
      ],
      "metadata": {
        "id": "fSME9MywceAq"
      },
      "execution_count": null,
      "outputs": []
    },
    {
      "cell_type": "code",
      "source": [
        "def selection(A):\n",
        "  n = len(A) # Get length of list\n",
        "  for i in range(n-2):\n",
        "    smallest = i\n",
        "    for j in range(i, n):\n",
        "      if A[smallest] > A[j]:\n",
        "        smallest = j\n",
        "    # swap the smallest element remaining after i with i.\n",
        "    A[smallest], A[i] = A[i], A[smallest]\n",
        "  return A"
      ],
      "metadata": {
        "id": "TJZL4jFQZhAp"
      },
      "execution_count": null,
      "outputs": []
    },
    {
      "cell_type": "code",
      "source": [
        "# Unsorted Data\n",
        "for size in [100, 100, 1000, 10000]:\n",
        "    N = size # Run the sorting algorithm on multiple array sizes\n",
        "\n",
        "    # Expected time for selection sort\n",
        "    EXPECTED_TIME = math.pow(N, 2)\n",
        "\n",
        "    # Create a list of integers with size N and shuffle it.\n",
        "    LIST = list(range(N))\n",
        "    random.shuffle(LIST)\n",
        "\n",
        "    # Time the algorithm\n",
        "    start = time.time()\n",
        "    selection(LIST)\n",
        "    end = time.time()\n",
        "\n",
        "    # Determine the time to size ratio\n",
        "    ratio=(end-start)/(EXPECTED_TIME)\n",
        "\n",
        "    # Display results. Not in timing chunk, so will not skew results.\n",
        "    print(\"N:\", N, \"|\", \"Time:\", end-start, \"|\", \"Ratio:\", ratio)"
      ],
      "metadata": {
        "id": "f1GS3NjwZqmS",
        "outputId": "d50570df-2629-410b-c7df-9ab01a20396b",
        "colab": {
          "base_uri": "https://localhost:8080/"
        }
      },
      "execution_count": null,
      "outputs": [
        {
          "output_type": "stream",
          "name": "stdout",
          "text": [
            "N: 100 | Time: 0.0003349781036376953 | Ratio: 3.3497810363769535e-08\n",
            "N: 100 | Time: 0.00034737586975097656 | Ratio: 3.4737586975097655e-08\n",
            "N: 1000 | Time: 0.05515241622924805 | Ratio: 5.515241622924805e-08\n",
            "N: 10000 | Time: 3.215771198272705 | Ratio: 3.215771198272705e-08\n"
          ]
        }
      ]
    },
    {
      "cell_type": "code",
      "source": [
        "# Sorted Data\n",
        "for size in [100, 100, 1000, 10000]:\n",
        "    N = size # Run the sorting algorithm on multiple array sizes\n",
        "\n",
        "    # Expected time for selection sort\n",
        "    EXPECTED_TIME = math.pow(N, 2)\n",
        "\n",
        "    # Create a list of integers with size N and shuffle it.\n",
        "    LIST = list(range(N))\n",
        "    # random.shuffle(LIST)\n",
        "\n",
        "    # Time the algorithm\n",
        "    start = time.time()\n",
        "    selection(LIST)\n",
        "    end = time.time()\n",
        "\n",
        "    # Determine the time to size ratio\n",
        "    ratio=(end-start)/(EXPECTED_TIME)\n",
        "\n",
        "    # Display results. Not in timing chunk, so will not skew results.\n",
        "    print(\"N:\", N, \"|\", \"Time:\", end-start, \"|\", \"Ratio:\", ratio)"
      ],
      "metadata": {
        "colab": {
          "base_uri": "https://localhost:8080/"
        },
        "id": "VgU1wmZ--mp7",
        "outputId": "a412c195-31b2-4f41-ba99-4da410014723"
      },
      "execution_count": null,
      "outputs": [
        {
          "output_type": "stream",
          "name": "stdout",
          "text": [
            "N: 100 | Time: 0.00020575523376464844 | Ratio: 2.0575523376464844e-08\n",
            "N: 100 | Time: 0.00023317337036132812 | Ratio: 2.3317337036132812e-08\n",
            "N: 1000 | Time: 0.029400110244750977 | Ratio: 2.9400110244750978e-08\n",
            "N: 10000 | Time: 4.30512261390686 | Ratio: 4.30512261390686e-08\n"
          ]
        }
      ]
    }
  ]
}