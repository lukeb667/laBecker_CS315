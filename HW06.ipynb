{
 "cells": [
  {
   "cell_type": "code",
   "execution_count": 1,
   "id": "6273f3bd",
   "metadata": {},
   "outputs": [],
   "source": [
    "# Luke Becker\n",
    "# Algorithms and Analysis Homework 6\n",
    "# October 31, 2025\n",
    "\n",
    "import random\n",
    "import time\n",
    "import math\n",
    "\n",
    "def quickselect(A, i):\n",
    "    # quickselect implementation from the assignment\n",
    "    if len(A) == 1:\n",
    "        return A[0]\n",
    "\n",
    "    pivot = random.choice(A)\n",
    "    lows = [x for x in A if x < pivot]\n",
    "    highs = [x for x in A if x > pivot]\n",
    "    pivots = [x for x in A if x == pivot]\n",
    "\n",
    "    if i <= len(lows):\n",
    "        return quickselect(lows, i)\n",
    "    elif i <= len(lows) + len(pivots):\n",
    "        return pivot\n",
    "    else:\n",
    "        return quickselect(highs, i - len(lows) - len(pivots))\n"
   ]
  },
  {
   "cell_type": "code",
   "execution_count": 2,
   "id": "63dc3115",
   "metadata": {},
   "outputs": [
    {
     "name": "stdout",
     "output_type": "stream",
     "text": [
      "Randomized:\n",
      "N: 10000 | Time: 0.010849237442016602 | Ratio: 8.1648647503194e-08\n",
      "N: 100000 | Time: 0.03007817268371582 | Ratio: 1.8108864385118902e-08\n",
      "N: 1000000 | Time: 1.3274688720703125 | Ratio: 6.660132480056603e-08\n",
      "N: 10000000 | Time: 11.684412002563477 | Ratio: 5.02479784923979e-08\n"
     ]
    }
   ],
   "source": [
    "# Test a variety of sizes on randomized data\n",
    "print(\"Randomized:\")\n",
    "for size in [10000, 100000, 1000000, 10000000]:\n",
    "    N = size # Run the sorting algorithm on multiple array sizes\n",
    "\n",
    "    # Expected time for power sort\n",
    "    EXPECTED_TIME = N * math.log2(N)\n",
    "\n",
    "    # Create a list of integers with size N and shuffle it.a\n",
    "    LIST = list(range(N))\n",
    "    random.shuffle(LIST)\n",
    "\n",
    "    # Time the algorithm\n",
    "    start = time.time()\n",
    "    quickselect(LIST, N/2)\n",
    "    end = time.time()\n",
    "\n",
    "    # Determine the time to size ratio\n",
    "    ratio=(end-start)/(EXPECTED_TIME)\n",
    "\n",
    "    # Display results. Not in timing chunk, so will not skew results.\n",
    "    print(\"N:\", N, \"|\", \"Time:\", end-start, \"|\", \"Ratio:\", ratio)"
   ]
  },
  {
   "cell_type": "code",
   "execution_count": 9,
   "id": "94b71ace",
   "metadata": {},
   "outputs": [
    {
     "name": "stdout",
     "output_type": "stream",
     "text": [
      "\n",
      "Sorted:\n",
      "N: 10000 | Time: 0.002686023712158203 | Ratio: 2.686023712158203e-07\n",
      "N: 100000 | Time: 0.027048110961914062 | Ratio: 2.704811096191406e-07\n",
      "N: 1000000 | Time: 0.21689724922180176 | Ratio: 2.1689724922180176e-07\n",
      "N: 10000000 | Time: 2.2561559677124023 | Ratio: 2.2561559677124024e-07\n"
     ]
    }
   ],
   "source": [
    "\n",
    "print(\"\\nSorted:\")\n",
    "# Test a variety of sizes on sorted data\n",
    "for size in [10000, 100000, 1000000, 10000000]:\n",
    "    N = size # Run the sorting algorithm on multiple array sizes\n",
    "\n",
    "    # Expected time for power sort\n",
    "    EXPECTED_TIME = N \n",
    "\n",
    "    # Create a list of integers with size N and shuffle it.\n",
    "    LIST = list(range(N))\n",
    "\n",
    "    # Time the algorithm\n",
    "    start = time.time()\n",
    "    quickselect(LIST, N/2)\n",
    "    end = time.time()\n",
    "\n",
    "    # Determine the time to size ratio\n",
    "    ratio=(end-start)/(EXPECTED_TIME)\n",
    "\n",
    "    # Display results. Not in timing chunk, so will not skew results.\n",
    "    print(\"N:\", N, \"|\", \"Time:\", end-start, \"|\", \"Ratio:\", ratio)\n"
   ]
  },
  {
   "cell_type": "code",
   "execution_count": 7,
   "id": "f09662a3",
   "metadata": {},
   "outputs": [
    {
     "name": "stdout",
     "output_type": "stream",
     "text": [
      "\n",
      "Reverse Sorted:\n",
      "N: 10000 | Time: 0.0014307498931884766 | Ratio: 1.4307498931884765e-07\n",
      "N: 100000 | Time: 0.02694869041442871 | Ratio: 2.694869041442871e-07\n",
      "N: 1000000 | Time: 0.2335953712463379 | Ratio: 2.335953712463379e-07\n",
      "N: 10000000 | Time: 1.4131731986999512 | Ratio: 1.4131731986999512e-07\n"
     ]
    }
   ],
   "source": [
    "\n",
    "\n",
    "print(\"\\nReverse Sorted:\")\n",
    "# Test a variety of sizes on sorted data\n",
    "for size in [10000, 100000, 1000000, 10000000]:\n",
    "    N = size # Run the sorting algorithm on multiple array sizes\n",
    "\n",
    "    # Expected time for power sort\n",
    "    EXPECTED_TIME = N \n",
    "\n",
    "    # Create a list of integers with size N and shuffle it.\n",
    "    LIST = list(range(N))\n",
    "    LIST.reverse()\n",
    "\n",
    "    # Time the algorithm\n",
    "    start = time.time()\n",
    "    quickselect(LIST, N/2)\n",
    "    end = time.time()\n",
    "\n",
    "    # Determine the time to size ratio\n",
    "    ratio=(end-start)/(EXPECTED_TIME)\n",
    "\n",
    "    # Display results. Not in timing chunk, so will not skew results.\n",
    "    print(\"N:\", N, \"|\", \"Time:\", end-start, \"|\", \"Ratio:\", ratio)"
   ]
  }
 ],
 "metadata": {
  "kernelspec": {
   "display_name": "Python 3",
   "language": "python",
   "name": "python3"
  },
  "language_info": {
   "codemirror_mode": {
    "name": "ipython",
    "version": 3
   },
   "file_extension": ".py",
   "mimetype": "text/x-python",
   "name": "python",
   "nbconvert_exporter": "python",
   "pygments_lexer": "ipython3",
   "version": "3.13.3"
  }
 },
 "nbformat": 4,
 "nbformat_minor": 5
}
