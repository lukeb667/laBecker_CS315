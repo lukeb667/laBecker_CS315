# merge sort
def mergesort(SORT_THIS):
    def merge(L1, L2):
        C = []
        while len(L1) > 0 and len(L2) > 0:
            if L1[0] <= L2[0]:
                C.append(L1[0])
                L1.pop(0)
            else: 
                C.append(L2[0])
                L2.pop(0)

        while len(L1) > 0:
            C.append(L1[0])
            L1.pop(0)

        while len(L2) > 0:
            C.append(L2[0])
            L2.pop(0)
        return C
    
    # recursive call
    if len(SORT_THIS) <= 2:
        return merge(SORT_THIS[0:math.floor(len(SORT_THIS)/2)], SORT_THIS[math.floor(len(SORT_THIS)/2):])
    else: return merge(mergesort(SORT_THIS[0:math.floor(len(SORT_THIS)/2)]), mergesort(SORT_THIS[math.floor(len(SORT_THIS)/2):]))
