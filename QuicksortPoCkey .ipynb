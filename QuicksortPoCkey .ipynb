{
  "nbformat": 4,
  "nbformat_minor": 0,
  "metadata": {
    "colab": {
      "provenance": [],
      "include_colab_link": true
    },
    "kernelspec": {
      "name": "python3",
      "display_name": "Python 3"
    },
    "language_info": {
      "name": "python"
    }
  },
  "cells": [
    {
      "cell_type": "markdown",
      "metadata": {
        "id": "view-in-github",
        "colab_type": "text"
      },
      "source": [
        "<a href=\"https://colab.research.google.com/github/lukeb667/laBecker_CS315/blob/main/QuicksortPoCkey%20.ipynb\" target=\"_parent\"><img src=\"https://colab.research.google.com/assets/colab-badge.svg\" alt=\"Open In Colab\"/></a>"
      ]
    },
    {
      "cell_type": "code",
      "execution_count": null,
      "metadata": {
        "id": "t_LwP80OmwFK"
      },
      "outputs": [],
      "source": [
        "# Template for testing Quick-Sort on small lists, outputing each intermediate step"
      ]
    },
    {
      "cell_type": "code",
      "source": [
        "import random\n",
        "import time\n",
        "import sys"
      ],
      "metadata": {
        "id": "LMcLd_etm-0Y"
      },
      "execution_count": 34,
      "outputs": []
    },
    {
      "cell_type": "code",
      "source": [
        "\n",
        "# Partition provided as a convenience\n",
        "\n",
        "def Partition(A,p,r):\n",
        "    x = A[r]\n",
        "    i = p - 1\n",
        "    for j in range(p,r):\n",
        "        if ( A[j] <= x ):\n",
        "            i = i + 1\n",
        "            #swap A[i] <--> A[j]\n",
        "            temp=A[i]\n",
        "            A[i]=A[j]\n",
        "            A[j]=temp\n",
        "    #swap A[i+1] <--> A[r]\n",
        "    temp=A[i+1]\n",
        "    A[i+1]=A[r]\n",
        "    A[r]=temp\n",
        "\n",
        "    return i + 1"
      ],
      "metadata": {
        "id": "TyWIYm1_nIYR"
      },
      "execution_count": 2,
      "outputs": []
    },
    {
      "cell_type": "code",
      "source": [
        "def Quicksort(A,p,r,print_flag):\n",
        "    if p < r:\n",
        "        q  = Partition(A , p , r)\n",
        "        if print_flag:\n",
        "            print(A)\n",
        "        Quicksort(A , p , q-1,print_flag)\n",
        "        Quicksort(A , q+1 , r,print_flag)"
      ],
      "metadata": {
        "id": "neX-YNcPnLpk"
      },
      "execution_count": 3,
      "outputs": []
    },
    {
      "cell_type": "code",
      "source": [
        "sys.setrecursionlimit(50000)\n",
        "\n",
        "N=10000\n",
        "A = list(range(N))\n",
        "\n",
        "# random.shuffle(A)\n",
        "# A.reverse()\n",
        "\n",
        "\n",
        "start = time.time()\n",
        "Quicksort(A,0,N-1,False)\n",
        "end = time.time()\n",
        "\n",
        "print(\"Sorted!\")\n",
        "print(\"N:\", N, \"|\", \"Time:\", end-start)\n"
      ],
      "metadata": {
        "colab": {
          "base_uri": "https://localhost:8080/"
        },
        "id": "RVXFjLS0nCeo",
        "outputId": "d107f287-298a-4622-e091-c1856ccc4576"
      },
      "execution_count": 47,
      "outputs": [
        {
          "output_type": "stream",
          "name": "stdout",
          "text": [
            "Sorted!\n",
            "N: 10000 | Time: 5.284833908081055\n"
          ]
        }
      ]
    },
    {
      "cell_type": "code",
      "source": [],
      "metadata": {
        "id": "GuL9bZEpnYou"
      },
      "execution_count": 18,
      "outputs": []
    }
  ]
}